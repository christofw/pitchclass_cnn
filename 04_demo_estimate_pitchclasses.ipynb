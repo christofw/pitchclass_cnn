{
 "cells": [
  {
   "cell_type": "markdown",
   "metadata": {},
   "source": [
    "# Demo: Predict pitch classes\n",
    "\n",
    "This notebook shows how to load pretrained models for all main experiments of the paper and to predict pitch classes for unseen audio recordings.\n",
    "\n",
    "&copy; Johannes Zeitler (johannes.zeitler@fau.de) and Christof Weiß (christof.weiss@audiolabs-erlangen.de), 2020/21"
   ]
  },
  {
   "cell_type": "code",
   "execution_count": 1,
   "metadata": {},
   "outputs": [],
   "source": [
    "import os\n",
    "import sys\n",
    "import numpy as np\n",
    "import librosa\n",
    "import matplotlib.pyplot as plt\n",
    "from harmonicCQT import HCQT, getHopSize\n",
    "import tensorflow as tf\n",
    "from FrameGenerators import PredictGenerator\n",
    "from LibFMP.C3 import smooth_downsample_feature_sequence, normalize_feature_sequence"
   ]
  },
  {
   "cell_type": "markdown",
   "metadata": {},
   "source": [
    "### 1. Specify paramters, select and load model"
   ]
  },
  {
   "cell_type": "code",
   "execution_count": 2,
   "metadata": {},
   "outputs": [
    {
     "name": "stdout",
     "output_type": "stream",
     "text": [
      "load and resample audio...\n",
      "compute hcqt...\n",
      "load model mCNN_WIDE_trainMusicNet-BeethovenPiano-WagnerPianoScore\n"
     ]
    }
   ],
   "source": [
    "fs = 22050 # audio sample rate\n",
    "rate = 10 # pitch class feature rate in Hz\n",
    "f = 'Schubert_D911-23_SC06'\n",
    "\n",
    "path_audio = os.path.join('Data', 'Schubert_Winterreise', 'audio_wav', f+'.wav')\n",
    "\n",
    "# load audio\n",
    "print('load and resample audio...')\n",
    "audioIn, _ = librosa.load(path_audio, sr=fs, mono=True)\n",
    "\n",
    "# Shorten audio to first 60 seconds\n",
    "audioIn[:60*fs]\n",
    "\n",
    "if rate not in (10, 50):\n",
    "    assert false, 'Error: output rate must be 10Hz or 50Hz'\n",
    "\n",
    "# HCQT config\n",
    "cqt_frameRate = 50 # desired cqt rate (actual cqt rate is approx. 57Hz due to power-of-two-constraints...)\n",
    "bottomNote = 'C1'\n",
    "bottomPitch = librosa.note_to_midi(bottomNote)\n",
    "numOctaves = 6\n",
    "numHarmonics = 5\n",
    "binsPerKey = 3\n",
    "hopSizeCQT = getHopSize(fs, cqt_frameRate, numOctaves, numHarmonics) # actual cqt hop size (corresponds to 57Hz)\n",
    "\n",
    "# compute HCQT\n",
    "print('compute hcqt...')\n",
    "hcqt, _, _ = HCQT(x=audioIn, fs=fs, frameRate=cqt_frameRate, f_min=bottomNote, binsPerKey=binsPerKey,\n",
    "                  numOctaves=numOctaves, numHarmonics=numHarmonics, centerNoteToBins=True,\n",
    "                  correctTuning=True)\n",
    "\n",
    "# tensorflow generator for feeding HCQT batches to the network. Decrease batch_size if insufficient memory.\n",
    "predictGen = PredictGenerator(hcqt, batch_size=100, numContextFrames=75, compression=10)\n",
    "\n",
    "\n",
    "#### Select model, load and compile the network ############################\n",
    "\n",
    "## Models from the cross-dataset experiments (Figure 3 of the paper): ##\n",
    "# modelName = 'mCNN_trainMusicNet' # Trained on MusicNet\n",
    "# modelName = 'mCNN_trainBeethovenPiano' ' # Trained on Beethoven Piano Sonatas\n",
    "# modelName = 'mCNN_trainWagnerPianoScore' # Trained on Wagner Ring\n",
    "# modelName = 'mCNN_trainMusicNet-BeethovenPiano-WagnerPianoScore' # Trained on Mix\n",
    "\n",
    "## Models from different architectures trained on a mixed dataset (Figure 4 of the paper): ##\n",
    "# modelName = 'mCNN_trainMusicNet-BeethovenPiano-WagnerPianoScore'  # Basic\n",
    "# modelName = 'mCNN_trainMusicNet-BeethovenPiano-WagnerPianoScore_LastLayer10' # BasicLast10\n",
    "# modelName = 'mCNN_WIDE_trainMusicNet-BeethovenPiano-WagnerPianoScore' # Wide\n",
    "# modelName = 'mCNN_WIDE-Inception_trainMusicNet-BeethovenPiano-WagnerPianoScore' # WideInception\n",
    "# modelName = 'mCNN_DEEP_trainMusicNet-BeethovenPiano-WagnerPianoScore' # Deep\n",
    "# modelName = 'mCNN_DEEP-ResNet_trainMusicNet-BeethovenPiano-WagnerPianoScore' # DeepResNet\n",
    "\n",
    "## Pitch-class features for chord recognition (Section 5 of the paper) ##\n",
    "modelName = 'mCNN_WIDE_trainMusicNet-BeethovenPiano-WagnerPianoScore'    # for chord reco on Schubert Winterreise\n",
    "# modelName = 'mCNN_WIDE_trainMusicNet-SMD-WagnerPianoScore'    # for chord reco on Beethoven Sonatas\n",
    "\n",
    "############################################################################\n",
    "\n",
    "print('load model ' + modelName)\n",
    "model = tf.keras.models.load_model(os.path.join('Models', modelName), compile=False)\n",
    "model.compile(loss = 'binary_crossentropy')"
   ]
  },
  {
   "cell_type": "markdown",
   "metadata": {},
   "source": [
    "### 2. Predict pitch classes"
   ]
  },
  {
   "cell_type": "code",
   "execution_count": 3,
   "metadata": {},
   "outputs": [
    {
     "name": "stdout",
     "output_type": "stream",
     "text": [
      "predict pitch classes...\n"
     ]
    }
   ],
   "source": [
    "print('predict pitch classes...')\n",
    "output = model.predict(predictGen).transpose()\n",
    "\n",
    "# interpolate chromas to be sampled at _exactly_ 50Hz (instead of 57Hz, see above)\n",
    "cqtTimes = np.arange(output.shape[1]) / (fs/hopSizeCQT)\n",
    "targetTimes = np.arange(0, np.max(cqtTimes), 1/cqt_frameRate)\n",
    "outputInterp = np.zeros((12, len(targetTimes)))\n",
    "for i in range(12):\n",
    "    outputInterp[i,:] = np.interp(targetTimes, cqtTimes, output[i,:])\n",
    "\n",
    "# if required, downsample to 10Hz\n",
    "if rate is 10:\n",
    "    outputInterp,_ = smooth_downsample_feature_sequence(outputInterp, fs, filt_len=5, down_sampling=5, w_type='boxcar')"
   ]
  },
  {
   "cell_type": "markdown",
   "metadata": {},
   "source": [
    "### 3. Plot predictions together with annotations (ground truth)"
   ]
  },
  {
   "cell_type": "code",
   "execution_count": 4,
   "metadata": {},
   "outputs": [
    {
     "data": {
      "image/png": "[encoded data removed]",
      "text/plain": [
       "<Figure size 1076.4x216 with 1 Axes>"
      ]
     },
     "metadata": {
      "needs_background": "light"
     },
     "output_type": "display_data"
    },
    {
     "data": {
      "image/png": "[encoded data removed]",
      "text/plain": [
       "<Figure size 1076.4x216 with 1 Axes>"
      ]
     },
     "metadata": {
      "needs_background": "light"
     },
     "output_type": "display_data"
    }
   ],
   "source": [
    "# Plot predictions\n",
    "plt.figure(figsize=(14.95, 3))\n",
    "librosa.display.specshow(outputInterp, y_axis='chroma', x_axis='s', sr=fs, hop_length=fs/rate, cmap='gray_r')\n",
    "plt.xlim([0, 30])\n",
    "plt.title('Pitch class predictions')\n",
    "plt.show()\n",
    "\n",
    "# Load and plot annotations\n",
    "chromaPath_dest = os.path.join('Data', 'Schubert_Winterreise', 'Chroma')\n",
    "chroma = np.load(os.path.join(chromaPath_dest, f+'.npy'))\n",
    "\n",
    "plt.figure(figsize=(14.95, 3))\n",
    "librosa.display.specshow(chroma, y_axis='chroma', x_axis='s', sr=fs, hop_length=hopSizeCQT, cmap='gray_r')\n",
    "plt.xlim([0, 30])\n",
    "plt.title('Pitch class annotations')\n",
    "plt.show()"
   ]
  }
 ],
 "metadata": {
  "kernelspec": {
   "display_name": "Python 3",
   "language": "python",
   "name": "python3"
  },
  "language_info": {
   "codemirror_mode": {
    "name": "ipython",
    "version": 3
   },
   "file_extension": ".py",
   "mimetype": "text/x-python",
   "name": "python",
   "nbconvert_exporter": "python",
   "pygments_lexer": "ipython3",
   "version": "3.7.9"
  }
 },
 "nbformat": 4,
 "nbformat_minor": 4
}
